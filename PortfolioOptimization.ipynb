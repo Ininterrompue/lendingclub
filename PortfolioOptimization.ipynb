{
 "cells": [
  {
   "cell_type": "markdown",
   "metadata": {},
   "source": [
    "## Portfolio optimization\n",
    "\n",
    "As a peer-to-peer lending platform, LendingClub loans are funded by investors. A central goal of any investor is how to optimize their portfolio for maximum returns. Unlike predicting loan defaults, this problem is complicated by a number of factors, including but not limited to:\n",
    "\n",
    "1. From a probabilistic perspective, a loan can default at any time in the payment schedule, at a partial loss for the investor.\n",
    "2. Once an investment is made, it must either mature to the loan expiration date (36 or 60 months after issuance), or at least part of it will be lost due to default.\n",
    "3. Interest rates vary with time, but the investor only has access to loans of different grades.\n",
    "4. The minimum investment in a single loan is \\\\$25, but the weights assigned to each loan will be continuous. This discretization matters more the smaller the portfolio.\n",
    "5. To date, LendingClub no longer offers loans that are of E grade or riskier. The loans of these grades in the dataset cannot be taken into account in the decision of the investor today. For our purposes, we will do the same on the most recent loans that were fully paid off or went into default.\n",
    "6. There are loans in the dataset that are still in issuance. The earlier they were issued, the more uncertainty there is to whether the borrower will continue to follow the repayment schedule. According to LendingClub statistics, there are a significant number of current loans whose current payment is late that eventually go into default.\n",
    "7. When one invests in actual loans on LendingClub at a given time, there are a limited amount of loans at that time to invest in. In our analysis, this point will likely be ignored at first. We may take this into account later ― it will amplify the effects of discretization (cf. point 4).\n",
    "8. The performance will primarily be measured through the difference between the theoretical (if every borrower follows their normal payment schedules, with no delinquencies) and actual returns, the latter of which will also depend on macroeconomic indicators such as CPI.\n",
    "\n",
    "The performance of an actual portfolio is, of course, subject to many more variables outside of the control of the investor, the most significant of which would be the general economic conditions of the US."
   ]
  },
  {
   "cell_type": "code",
   "execution_count": 1,
   "metadata": {},
   "outputs": [],
   "source": [
    "import torch"
   ]
  },
  {
   "cell_type": "code",
   "execution_count": 2,
   "metadata": {},
   "outputs": [
    {
     "data": {
      "text/plain": [
       "False"
      ]
     },
     "execution_count": 2,
     "metadata": {},
     "output_type": "execute_result"
    }
   ],
   "source": [
    "torch.cuda.is_available()"
   ]
  },
  {
   "cell_type": "code",
   "execution_count": null,
   "metadata": {},
   "outputs": [],
   "source": []
  }
 ],
 "metadata": {
  "kernelspec": {
   "display_name": "Python 3",
   "language": "python",
   "name": "python3"
  },
  "language_info": {
   "codemirror_mode": {
    "name": "ipython",
    "version": 3
   },
   "file_extension": ".py",
   "mimetype": "text/x-python",
   "name": "python",
   "nbconvert_exporter": "python",
   "pygments_lexer": "ipython3",
   "version": "3.6.8"
  }
 },
 "nbformat": 4,
 "nbformat_minor": 2
}
